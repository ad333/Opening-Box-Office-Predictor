{
 "cells": [
  {
   "cell_type": "code",
   "execution_count": 1,
   "metadata": {},
   "outputs": [],
   "source": [
    "# Importing the libraries\n",
    "import numpy as np\n",
    "import matplotlib.pyplot as plt\n",
    "import pandas as pd\n",
    "import statsmodels.formula.api as sm\n",
    "\n",
    "#import multipolyfit as mpf"
   ]
  },
  {
   "cell_type": "code",
   "execution_count": 2,
   "metadata": {},
   "outputs": [],
   "source": [
    "def backwardElimination(x, sl):\n",
    "    numVars = len(x[0])\n",
    "    for i in range(0, numVars):\n",
    "        regressor_OLS = sm.OLS(y, x).fit()\n",
    "        maxVar = max(regressor_OLS.pvalues).astype(float)\n",
    "        if maxVar > sl:\n",
    "            for j in range(0, numVars - i):\n",
    "                if (regressor_OLS.pvalues[j].astype(float) == maxVar):\n",
    "                    x = np.delete(x, j, 1)\n",
    "    regressor_OLS.summary()\n",
    "    return x"
   ]
  },
  {
   "cell_type": "code",
   "execution_count": 3,
   "metadata": {},
   "outputs": [
    {
     "data": {
      "text/html": [
       "<div>\n",
       "<style scoped>\n",
       "    .dataframe tbody tr th:only-of-type {\n",
       "        vertical-align: middle;\n",
       "    }\n",
       "\n",
       "    .dataframe tbody tr th {\n",
       "        vertical-align: top;\n",
       "    }\n",
       "\n",
       "    .dataframe thead th {\n",
       "        text-align: right;\n",
       "    }\n",
       "</style>\n",
       "<table border=\"1\" class=\"dataframe\">\n",
       "  <thead>\n",
       "    <tr style=\"text-align: right;\">\n",
       "      <th></th>\n",
       "      <th>Opening</th>\n",
       "      <th>Budget</th>\n",
       "      <th>Year</th>\n",
       "      <th>Ticket_Price</th>\n",
       "      <th>Ratings</th>\n",
       "      <th>actor_Jason Lee</th>\n",
       "      <th>actor_Ed Helms</th>\n",
       "      <th>actor_Angelina Jolie</th>\n",
       "      <th>actor_Lee Armstrong</th>\n",
       "      <th>actor_Billy Connolly</th>\n",
       "      <th>...</th>\n",
       "      <th>genre_ Music</th>\n",
       "      <th>genre_ History</th>\n",
       "      <th>genre_ Comedy</th>\n",
       "      <th>genre_ Adventure</th>\n",
       "      <th>genre_Animation</th>\n",
       "      <th>genre_ Drama</th>\n",
       "      <th>genre_ Thriller</th>\n",
       "      <th>genre_ Fantasy</th>\n",
       "      <th>genre_ Horror</th>\n",
       "      <th>genre_ War</th>\n",
       "    </tr>\n",
       "  </thead>\n",
       "  <tbody>\n",
       "    <tr>\n",
       "      <th>0</th>\n",
       "      <td>247966675</td>\n",
       "      <td>245000000</td>\n",
       "      <td>15</td>\n",
       "      <td>8.43</td>\n",
       "      <td>0.93</td>\n",
       "      <td>0</td>\n",
       "      <td>0</td>\n",
       "      <td>0</td>\n",
       "      <td>0</td>\n",
       "      <td>0</td>\n",
       "      <td>...</td>\n",
       "      <td>0</td>\n",
       "      <td>0</td>\n",
       "      <td>0</td>\n",
       "      <td>1</td>\n",
       "      <td>0</td>\n",
       "      <td>0</td>\n",
       "      <td>0</td>\n",
       "      <td>1</td>\n",
       "      <td>0</td>\n",
       "      <td>0</td>\n",
       "    </tr>\n",
       "    <tr>\n",
       "      <th>1</th>\n",
       "      <td>220009584</td>\n",
       "      <td>620181382</td>\n",
       "      <td>17</td>\n",
       "      <td>8.97</td>\n",
       "      <td>0.91</td>\n",
       "      <td>0</td>\n",
       "      <td>0</td>\n",
       "      <td>0</td>\n",
       "      <td>0</td>\n",
       "      <td>0</td>\n",
       "      <td>...</td>\n",
       "      <td>0</td>\n",
       "      <td>0</td>\n",
       "      <td>0</td>\n",
       "      <td>1</td>\n",
       "      <td>0</td>\n",
       "      <td>0</td>\n",
       "      <td>0</td>\n",
       "      <td>1</td>\n",
       "      <td>0</td>\n",
       "      <td>0</td>\n",
       "    </tr>\n",
       "    <tr>\n",
       "      <th>2</th>\n",
       "      <td>208806270</td>\n",
       "      <td>150000000</td>\n",
       "      <td>15</td>\n",
       "      <td>8.43</td>\n",
       "      <td>0.71</td>\n",
       "      <td>0</td>\n",
       "      <td>0</td>\n",
       "      <td>0</td>\n",
       "      <td>0</td>\n",
       "      <td>0</td>\n",
       "      <td>...</td>\n",
       "      <td>0</td>\n",
       "      <td>0</td>\n",
       "      <td>0</td>\n",
       "      <td>1</td>\n",
       "      <td>0</td>\n",
       "      <td>0</td>\n",
       "      <td>0</td>\n",
       "      <td>0</td>\n",
       "      <td>0</td>\n",
       "      <td>0</td>\n",
       "    </tr>\n",
       "    <tr>\n",
       "      <th>3</th>\n",
       "      <td>191271109</td>\n",
       "      <td>250000000</td>\n",
       "      <td>15</td>\n",
       "      <td>8.43</td>\n",
       "      <td>0.75</td>\n",
       "      <td>0</td>\n",
       "      <td>0</td>\n",
       "      <td>0</td>\n",
       "      <td>0</td>\n",
       "      <td>0</td>\n",
       "      <td>...</td>\n",
       "      <td>0</td>\n",
       "      <td>0</td>\n",
       "      <td>0</td>\n",
       "      <td>1</td>\n",
       "      <td>0</td>\n",
       "      <td>0</td>\n",
       "      <td>0</td>\n",
       "      <td>0</td>\n",
       "      <td>0</td>\n",
       "      <td>0</td>\n",
       "    </tr>\n",
       "    <tr>\n",
       "      <th>4</th>\n",
       "      <td>179139142</td>\n",
       "      <td>250000000</td>\n",
       "      <td>16</td>\n",
       "      <td>8.65</td>\n",
       "      <td>0.91</td>\n",
       "      <td>0</td>\n",
       "      <td>0</td>\n",
       "      <td>0</td>\n",
       "      <td>0</td>\n",
       "      <td>0</td>\n",
       "      <td>...</td>\n",
       "      <td>0</td>\n",
       "      <td>0</td>\n",
       "      <td>0</td>\n",
       "      <td>1</td>\n",
       "      <td>0</td>\n",
       "      <td>0</td>\n",
       "      <td>0</td>\n",
       "      <td>0</td>\n",
       "      <td>0</td>\n",
       "      <td>0</td>\n",
       "    </tr>\n",
       "  </tbody>\n",
       "</table>\n",
       "<p>5 rows × 1526 columns</p>\n",
       "</div>"
      ],
      "text/plain": [
       "     Opening     Budget  Year  Ticket_Price  Ratings  actor_Jason Lee  \\\n",
       "0  247966675  245000000    15          8.43     0.93                0   \n",
       "1  220009584  620181382    17          8.97     0.91                0   \n",
       "2  208806270  150000000    15          8.43     0.71                0   \n",
       "3  191271109  250000000    15          8.43     0.75                0   \n",
       "4  179139142  250000000    16          8.65     0.91                0   \n",
       "\n",
       "   actor_Ed Helms  actor_Angelina Jolie  actor_Lee Armstrong  \\\n",
       "0               0                     0                    0   \n",
       "1               0                     0                    0   \n",
       "2               0                     0                    0   \n",
       "3               0                     0                    0   \n",
       "4               0                     0                    0   \n",
       "\n",
       "   actor_Billy Connolly     ...      genre_ Music  genre_ History  \\\n",
       "0                     0     ...                 0               0   \n",
       "1                     0     ...                 0               0   \n",
       "2                     0     ...                 0               0   \n",
       "3                     0     ...                 0               0   \n",
       "4                     0     ...                 0               0   \n",
       "\n",
       "   genre_ Comedy  genre_ Adventure  genre_Animation  genre_ Drama  \\\n",
       "0              0                 1                0             0   \n",
       "1              0                 1                0             0   \n",
       "2              0                 1                0             0   \n",
       "3              0                 1                0             0   \n",
       "4              0                 1                0             0   \n",
       "\n",
       "   genre_ Thriller  genre_ Fantasy  genre_ Horror  genre_ War  \n",
       "0                0               1              0           0  \n",
       "1                0               1              0           0  \n",
       "2                0               0              0           0  \n",
       "3                0               0              0           0  \n",
       "4                0               0              0           0  \n",
       "\n",
       "[5 rows x 1526 columns]"
      ]
     },
     "execution_count": 3,
     "metadata": {},
     "output_type": "execute_result"
    }
   ],
   "source": [
    "# Importing the dataset\n",
    "dataset = pd.read_csv('regression_ready.csv')\n",
    "dataset.head()"
   ]
  },
  {
   "cell_type": "code",
   "execution_count": 4,
   "metadata": {},
   "outputs": [
    {
     "data": {
      "text/html": [
       "<div>\n",
       "<style scoped>\n",
       "    .dataframe tbody tr th:only-of-type {\n",
       "        vertical-align: middle;\n",
       "    }\n",
       "\n",
       "    .dataframe tbody tr th {\n",
       "        vertical-align: top;\n",
       "    }\n",
       "\n",
       "    .dataframe thead th {\n",
       "        text-align: right;\n",
       "    }\n",
       "</style>\n",
       "<table border=\"1\" class=\"dataframe\">\n",
       "  <thead>\n",
       "    <tr style=\"text-align: right;\">\n",
       "      <th></th>\n",
       "      <th>Opening</th>\n",
       "      <th>Budget</th>\n",
       "      <th>Year</th>\n",
       "      <th>Ticket_Price</th>\n",
       "      <th>Ratings</th>\n",
       "      <th>actor_Jason Lee</th>\n",
       "      <th>actor_Ed Helms</th>\n",
       "      <th>actor_Angelina Jolie</th>\n",
       "      <th>actor_Lee Armstrong</th>\n",
       "      <th>actor_Billy Connolly</th>\n",
       "      <th>...</th>\n",
       "      <th>genre_ Music</th>\n",
       "      <th>genre_ History</th>\n",
       "      <th>genre_ Comedy</th>\n",
       "      <th>genre_ Adventure</th>\n",
       "      <th>genre_Animation</th>\n",
       "      <th>genre_ Drama</th>\n",
       "      <th>genre_ Thriller</th>\n",
       "      <th>genre_ Fantasy</th>\n",
       "      <th>genre_ Horror</th>\n",
       "      <th>genre_ War</th>\n",
       "    </tr>\n",
       "  </thead>\n",
       "  <tbody>\n",
       "    <tr>\n",
       "      <th>0</th>\n",
       "      <td>247966675</td>\n",
       "      <td>245000000</td>\n",
       "      <td>15</td>\n",
       "      <td>8.43</td>\n",
       "      <td>0.93</td>\n",
       "      <td>0</td>\n",
       "      <td>0</td>\n",
       "      <td>0</td>\n",
       "      <td>0</td>\n",
       "      <td>0</td>\n",
       "      <td>...</td>\n",
       "      <td>0</td>\n",
       "      <td>0</td>\n",
       "      <td>0</td>\n",
       "      <td>1</td>\n",
       "      <td>0</td>\n",
       "      <td>0</td>\n",
       "      <td>0</td>\n",
       "      <td>1</td>\n",
       "      <td>0</td>\n",
       "      <td>0</td>\n",
       "    </tr>\n",
       "    <tr>\n",
       "      <th>1</th>\n",
       "      <td>220009584</td>\n",
       "      <td>620181382</td>\n",
       "      <td>17</td>\n",
       "      <td>8.97</td>\n",
       "      <td>0.91</td>\n",
       "      <td>0</td>\n",
       "      <td>0</td>\n",
       "      <td>0</td>\n",
       "      <td>0</td>\n",
       "      <td>0</td>\n",
       "      <td>...</td>\n",
       "      <td>0</td>\n",
       "      <td>0</td>\n",
       "      <td>0</td>\n",
       "      <td>1</td>\n",
       "      <td>0</td>\n",
       "      <td>0</td>\n",
       "      <td>0</td>\n",
       "      <td>1</td>\n",
       "      <td>0</td>\n",
       "      <td>0</td>\n",
       "    </tr>\n",
       "    <tr>\n",
       "      <th>2</th>\n",
       "      <td>208806270</td>\n",
       "      <td>150000000</td>\n",
       "      <td>15</td>\n",
       "      <td>8.43</td>\n",
       "      <td>0.71</td>\n",
       "      <td>0</td>\n",
       "      <td>0</td>\n",
       "      <td>0</td>\n",
       "      <td>0</td>\n",
       "      <td>0</td>\n",
       "      <td>...</td>\n",
       "      <td>0</td>\n",
       "      <td>0</td>\n",
       "      <td>0</td>\n",
       "      <td>1</td>\n",
       "      <td>0</td>\n",
       "      <td>0</td>\n",
       "      <td>0</td>\n",
       "      <td>0</td>\n",
       "      <td>0</td>\n",
       "      <td>0</td>\n",
       "    </tr>\n",
       "    <tr>\n",
       "      <th>3</th>\n",
       "      <td>191271109</td>\n",
       "      <td>250000000</td>\n",
       "      <td>15</td>\n",
       "      <td>8.43</td>\n",
       "      <td>0.75</td>\n",
       "      <td>0</td>\n",
       "      <td>0</td>\n",
       "      <td>0</td>\n",
       "      <td>0</td>\n",
       "      <td>0</td>\n",
       "      <td>...</td>\n",
       "      <td>0</td>\n",
       "      <td>0</td>\n",
       "      <td>0</td>\n",
       "      <td>1</td>\n",
       "      <td>0</td>\n",
       "      <td>0</td>\n",
       "      <td>0</td>\n",
       "      <td>0</td>\n",
       "      <td>0</td>\n",
       "      <td>0</td>\n",
       "    </tr>\n",
       "    <tr>\n",
       "      <th>4</th>\n",
       "      <td>179139142</td>\n",
       "      <td>250000000</td>\n",
       "      <td>16</td>\n",
       "      <td>8.65</td>\n",
       "      <td>0.91</td>\n",
       "      <td>0</td>\n",
       "      <td>0</td>\n",
       "      <td>0</td>\n",
       "      <td>0</td>\n",
       "      <td>0</td>\n",
       "      <td>...</td>\n",
       "      <td>0</td>\n",
       "      <td>0</td>\n",
       "      <td>0</td>\n",
       "      <td>1</td>\n",
       "      <td>0</td>\n",
       "      <td>0</td>\n",
       "      <td>0</td>\n",
       "      <td>0</td>\n",
       "      <td>0</td>\n",
       "      <td>0</td>\n",
       "    </tr>\n",
       "  </tbody>\n",
       "</table>\n",
       "<p>5 rows × 1526 columns</p>\n",
       "</div>"
      ],
      "text/plain": [
       "     Opening     Budget  Year  Ticket_Price  Ratings  actor_Jason Lee  \\\n",
       "0  247966675  245000000    15          8.43     0.93                0   \n",
       "1  220009584  620181382    17          8.97     0.91                0   \n",
       "2  208806270  150000000    15          8.43     0.71                0   \n",
       "3  191271109  250000000    15          8.43     0.75                0   \n",
       "4  179139142  250000000    16          8.65     0.91                0   \n",
       "\n",
       "   actor_Ed Helms  actor_Angelina Jolie  actor_Lee Armstrong  \\\n",
       "0               0                     0                    0   \n",
       "1               0                     0                    0   \n",
       "2               0                     0                    0   \n",
       "3               0                     0                    0   \n",
       "4               0                     0                    0   \n",
       "\n",
       "   actor_Billy Connolly     ...      genre_ Music  genre_ History  \\\n",
       "0                     0     ...                 0               0   \n",
       "1                     0     ...                 0               0   \n",
       "2                     0     ...                 0               0   \n",
       "3                     0     ...                 0               0   \n",
       "4                     0     ...                 0               0   \n",
       "\n",
       "   genre_ Comedy  genre_ Adventure  genre_Animation  genre_ Drama  \\\n",
       "0              0                 1                0             0   \n",
       "1              0                 1                0             0   \n",
       "2              0                 1                0             0   \n",
       "3              0                 1                0             0   \n",
       "4              0                 1                0             0   \n",
       "\n",
       "   genre_ Thriller  genre_ Fantasy  genre_ Horror  genre_ War  \n",
       "0                0               1              0           0  \n",
       "1                0               1              0           0  \n",
       "2                0               0              0           0  \n",
       "3                0               0              0           0  \n",
       "4                0               0              0           0  \n",
       "\n",
       "[5 rows x 1526 columns]"
      ]
     },
     "execution_count": 4,
     "metadata": {},
     "output_type": "execute_result"
    }
   ],
   "source": [
    "# drop rows with missing data\n",
    "cleaned_df = dataset.dropna()\n",
    "# create dummy variables\n",
    "#cleaned_df = pd.get_dummies(cleaned_df)\n",
    "cleaned_df.head()"
   ]
  },
  {
   "cell_type": "code",
   "execution_count": 91,
   "metadata": {},
   "outputs": [],
   "source": [
    "# X = cleaned_df.iloc[:, 1:].values\n",
    "# X = cleaned_df.iloc[:, [1,2]].values\n",
    "# X = cleaned_df.loc[:, ['Budget', 'Year', 'Ratings']].values\n",
    "\n",
    "X = cleaned_df.loc[:, ['Budget', 'Year', 'month_May', 'month_Sept', 'actor_Robert Downey Jr.']].values\n",
    "y = cleaned_df.iloc[:,0].values"
   ]
  },
  {
   "cell_type": "code",
   "execution_count": 92,
   "metadata": {},
   "outputs": [
    {
     "data": {
      "text/plain": [
       "(175, 5)"
      ]
     },
     "execution_count": 92,
     "metadata": {},
     "output_type": "execute_result"
    }
   ],
   "source": [
    "X.shape"
   ]
  },
  {
   "cell_type": "code",
   "execution_count": 93,
   "metadata": {},
   "outputs": [
    {
     "data": {
      "text/plain": [
       "(175, 1)"
      ]
     },
     "execution_count": 93,
     "metadata": {},
     "output_type": "execute_result"
    }
   ],
   "source": [
    "y = y.reshape((-1, 1))\n",
    "y\n",
    "y.shape"
   ]
  },
  {
   "cell_type": "code",
   "execution_count": 94,
   "metadata": {},
   "outputs": [],
   "source": [
    "import statsmodels.formula.api as sm\n",
    "X = np.append(arr = np.ones((175, 1)).astype(int), values = X, axis = 1)\n",
    "X_opt = X[:, :]\n",
    "SL = 0.1\n",
    "\n",
    "X_Modeled = backwardElimination(X_opt, SL)"
   ]
  },
  {
   "cell_type": "code",
   "execution_count": 95,
   "metadata": {},
   "outputs": [],
   "source": [
    "from sklearn.cross_validation import train_test_split\n",
    "X_opt_train, X_opt_test, y_opt_train, y_opt_test = train_test_split(X_Modeled, y, test_size = 0.1, random_state = 0)"
   ]
  },
  {
   "cell_type": "code",
   "execution_count": 96,
   "metadata": {},
   "outputs": [],
   "source": [
    "from sklearn.linear_model import LinearRegression\n",
    "from sklearn.preprocessing import PolynomialFeatures\n",
    "\n",
    "# pass the order of your polynomial here\n",
    "poly_reg = PolynomialFeatures(degree = 3)"
   ]
  },
  {
   "cell_type": "code",
   "execution_count": 97,
   "metadata": {},
   "outputs": [
    {
     "data": {
      "text/plain": [
       "array([[1.00e+00, 1.00e+00, 4.00e+07, ..., 0.00e+00, 0.00e+00, 0.00e+00],\n",
       "       [1.00e+00, 1.00e+00, 2.00e+08, ..., 0.00e+00, 0.00e+00, 0.00e+00],\n",
       "       [1.00e+00, 1.00e+00, 1.15e+08, ..., 0.00e+00, 0.00e+00, 0.00e+00],\n",
       "       ...,\n",
       "       [1.00e+00, 1.00e+00, 1.37e+08, ..., 0.00e+00, 0.00e+00, 0.00e+00],\n",
       "       [1.00e+00, 1.00e+00, 3.00e+08, ..., 0.00e+00, 0.00e+00, 0.00e+00],\n",
       "       [1.00e+00, 1.00e+00, 7.60e+07, ..., 0.00e+00, 0.00e+00, 0.00e+00]])"
      ]
     },
     "execution_count": 97,
     "metadata": {},
     "output_type": "execute_result"
    }
   ],
   "source": [
    "# convert to be used further to linear regression\n",
    "X_poly = poly_reg.fit_transform(X_opt_train)\n",
    "X_poly"
   ]
  },
  {
   "cell_type": "code",
   "execution_count": 98,
   "metadata": {},
   "outputs": [
    {
     "data": {
      "text/plain": [
       "PolynomialFeatures(degree=3, include_bias=True, interaction_only=False)"
      ]
     },
     "execution_count": 98,
     "metadata": {},
     "output_type": "execute_result"
    }
   ],
   "source": [
    "#\n",
    "poly_reg.fit(X_poly, y_opt_train)"
   ]
  },
  {
   "cell_type": "code",
   "execution_count": 99,
   "metadata": {},
   "outputs": [
    {
     "data": {
      "text/plain": [
       "LinearRegression(copy_X=True, fit_intercept=True, n_jobs=1, normalize=False)"
      ]
     },
     "execution_count": 99,
     "metadata": {},
     "output_type": "execute_result"
    }
   ],
   "source": [
    "# create a Linear Regressor \n",
    "lin_reg_2 = LinearRegression()\n",
    "\n",
    "# fit this to Linear Regressor\n",
    "lin_reg_2.fit(X_poly, y_opt_train)"
   ]
  },
  {
   "cell_type": "code",
   "execution_count": 100,
   "metadata": {},
   "outputs": [
    {
     "data": {
      "text/plain": [
       "array([[7.34574127e+07],\n",
       "       [7.22459534e+07],\n",
       "       [8.82846268e+07],\n",
       "       [7.91788054e+07],\n",
       "       [7.12174944e+07],\n",
       "       [8.91012788e+07],\n",
       "       [1.14208209e+08],\n",
       "       [9.61245745e+07],\n",
       "       [7.25283536e+07],\n",
       "       [9.19445334e+07],\n",
       "       [7.05428946e+07],\n",
       "       [8.36611127e+07],\n",
       "       [1.40805746e+08],\n",
       "       [7.14847354e+07],\n",
       "       [7.07496660e+07],\n",
       "       [7.29526416e+07],\n",
       "       [7.25514262e+07],\n",
       "       [1.00628557e+08]])"
      ]
     },
     "execution_count": 100,
     "metadata": {},
     "output_type": "execute_result"
    }
   ],
   "source": [
    "poly_pred = lin_reg_2.predict(poly_reg.fit_transform(X_opt_test))\n",
    "poly_pred"
   ]
  },
  {
   "cell_type": "code",
   "execution_count": 101,
   "metadata": {},
   "outputs": [
    {
     "data": {
      "text/plain": [
       "0.5363919050926953"
      ]
     },
     "execution_count": 101,
     "metadata": {},
     "output_type": "execute_result"
    }
   ],
   "source": [
    "lin_reg_2.score(poly_reg.fit_transform(X_opt_test),y_opt_test)"
   ]
  },
  {
   "cell_type": "code",
   "execution_count": 102,
   "metadata": {},
   "outputs": [
    {
     "data": {
      "text/plain": [
       "641146697682400.8"
      ]
     },
     "execution_count": 102,
     "metadata": {},
     "output_type": "execute_result"
    }
   ],
   "source": [
    "from sklearn.metrics import mean_squared_error\n",
    "mean_squared_error(y_opt_test,poly_pred)"
   ]
  },
  {
   "cell_type": "code",
   "execution_count": null,
   "metadata": {},
   "outputs": [],
   "source": []
  },
  {
   "cell_type": "code",
   "execution_count": 103,
   "metadata": {},
   "outputs": [
    {
     "data": {
      "text/plain": [
       "(157, 35)"
      ]
     },
     "execution_count": 103,
     "metadata": {},
     "output_type": "execute_result"
    }
   ],
   "source": [
    "X_poly.shape"
   ]
  },
  {
   "cell_type": "code",
   "execution_count": 104,
   "metadata": {},
   "outputs": [
    {
     "data": {
      "text/plain": [
       "(157, 4)"
      ]
     },
     "execution_count": 104,
     "metadata": {},
     "output_type": "execute_result"
    }
   ],
   "source": [
    "X_opt_train.shape"
   ]
  },
  {
   "cell_type": "code",
   "execution_count": 105,
   "metadata": {},
   "outputs": [
    {
     "data": {
      "image/png": "[encoded data removed]",
      "text/plain": [
       "<matplotlib.figure.Figure at 0xcb5e110>"
      ]
     },
     "metadata": {},
     "output_type": "display_data"
    }
   ],
   "source": [
    "# plt.scatter(X[:,1], y, color = 'red')\n",
    "plt.scatter(X_opt_train[:,0], y_opt_train, color = 'yellow')\n",
    "plt.scatter(X_opt_train[:,1], y_opt_train, color = 'red')\n",
    "plt.scatter(X_opt_train[:,2], y_opt_train, color = 'green')\n",
    "plt.scatter(X_opt_train[:,3], y_opt_train, color = 'orange')\n",
    "# plt.scatter(X[:,4], y, color = 'lightgreen')\n",
    "# plt.scatter(X[:,5], y, color = 'cyan')\n",
    "plt.plot(X_opt_train, lin_reg_2.predict(X_poly), color = 'blue')\n",
    "plt.show()"
   ]
  },
  {
   "cell_type": "code",
   "execution_count": null,
   "metadata": {},
   "outputs": [],
   "source": []
  }
 ],
 "metadata": {
  "kernelspec": {
   "display_name": "Python 3",
   "language": "python",
   "name": "python3"
  },
  "language_info": {
   "codemirror_mode": {
    "name": "ipython",
    "version": 3
   },
   "file_extension": ".py",
   "mimetype": "text/x-python",
   "name": "python",
   "nbconvert_exporter": "python",
   "pygments_lexer": "ipython3",
   "version": "3.6.5"
  }
 },
 "nbformat": 4,
 "nbformat_minor": 2
}
